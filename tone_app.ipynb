{
  "nbformat": 4,
  "nbformat_minor": 0,
  "metadata": {
    "colab": {
      "name": "Copy of tele-toner-app.ipynb",
      "provenance": [],
      "toc_visible": true,
      "authorship_tag": "ABX9TyPrauPlAyx2LJG2EhNOLj8H",
      "include_colab_link": true
    },
    "kernelspec": {
      "name": "python3",
      "display_name": "Python 3"
    },
    "language_info": {
      "name": "python"
    }
  },
  "cells": [
    {
      "cell_type": "markdown",
      "metadata": {
        "id": "view-in-github",
        "colab_type": "text"
      },
      "source": [
        "<a href=\"https://colab.research.google.com/github/k1mokhtarpour/Text_Tone_Analyzer/blob/main/tone_app.ipynb\" target=\"_parent\"><img src=\"https://colab.research.google.com/assets/colab-badge.svg\" alt=\"Open In Colab\"/></a>"
      ]
    },
    {
      "cell_type": "markdown",
      "metadata": {
        "id": "MKUPzb4dMy24"
      },
      "source": [
        "# IBM WATSON TONE ANALYZER "
      ]
    },
    {
      "cell_type": "markdown",
      "metadata": {
        "id": "biP7xddbNHbb"
      },
      "source": [
        "## Credentials Setup "
      ]
    },
    {
      "cell_type": "code",
      "metadata": {
        "cellView": "form",
        "id": "XIwkZZIUNMuw"
      },
      "source": [
        "#@title Private IBM Watson Credentials \n",
        "apikey = 'PQH09s7Ui-FFNPrv_QhIHHqC2SklFk-c-btGSZCEEdBk'\n",
        "url = 'https://api.us-south.tone-analyzer.watson.cloud.ibm.com/instances/0fcd3e3c-4c90-4b6b-971c-f13f8eb1ccd2'"
      ],
      "execution_count": 25,
      "outputs": []
    },
    {
      "cell_type": "markdown",
      "metadata": {
        "id": "jonwtA-FOB4F"
      },
      "source": [
        "## Watson Libraries Import \n"
      ]
    },
    {
      "cell_type": "code",
      "metadata": {
        "id": "CSaNek0JOFSu"
      },
      "source": [
        "# https://betterprogramming.pub/how-to-get-data-from-telegram-82af55268a4b \n",
        "# https://www.youtube.com/watch?v=1LHLiBhASSA\n",
        "from ibm_watson import ToneAnalyzerV3 \n",
        "from ibm_cloud_sdk_core.authenticators import IAMAuthenticator"
      ],
      "execution_count": 26,
      "outputs": []
    },
    {
      "cell_type": "markdown",
      "metadata": {
        "id": "dagRQkeHOJW0"
      },
      "source": [
        "## Tone Analyzer Setup "
      ]
    },
    {
      "cell_type": "code",
      "metadata": {
        "id": "7V_q_t4eOIlH"
      },
      "source": [
        "authenticator = IAMAuthenticator(apikey)\n",
        "ta = ToneAnalyzerV3(version='2017-09-21', authenticator=authenticator)\n",
        "ta.set_service_url(url)"
      ],
      "execution_count": 27,
      "outputs": []
    },
    {
      "cell_type": "markdown",
      "metadata": {
        "id": "JxdGX88DOmcZ"
      },
      "source": [
        "## Text Input / Extract Text "
      ]
    },
    {
      "cell_type": "code",
      "metadata": {
        "id": "KYnkbfcOOtKd"
      },
      "source": [
        "text = 'Wisdom cannot be imparted. Wisdom that a wise man attempts to impart always sounds like foolishness to someone else. Knowledge can be communicated. but not wisdom. One can find it, live it, do wonders through it, but one cannot communicate and teach it.' "
      ],
      "execution_count": 75,
      "outputs": []
    },
    {
      "cell_type": "markdown",
      "metadata": {
        "id": "e8s_8qopO08X"
      },
      "source": [
        "## Tone Generation\n",
        "\n",
        "\n",
        "\n",
        "1.   Tone_Style returns the tone of the whole text.\n",
        "2.   Final list appends the tone of each sentence in a text to the Tone_Style.\n",
        "\n",
        "\n"
      ]
    },
    {
      "cell_type": "code",
      "metadata": {
        "colab": {
          "base_uri": "https://localhost:8080/"
        },
        "id": "rRbuV5c6O0M2",
        "outputId": "7c623347-0ff0-4fad-cb5e-27ed07ff9e1e"
      },
      "source": [
        "res = ta.tone(text).get_result()\n",
        "Tone_Style = res['document_tone']['tones'][0]['tone_name']\n",
        "print(Tone_Style)"
      ],
      "execution_count": 76,
      "outputs": [
        {
          "output_type": "stream",
          "text": [
            "Joy\n"
          ],
          "name": "stdout"
        }
      ]
    },
    {
      "cell_type": "code",
      "metadata": {
        "id": "jOdNlfoQd1dv"
      },
      "source": [
        "res = text.split('.')"
      ],
      "execution_count": 77,
      "outputs": []
    },
    {
      "cell_type": "code",
      "metadata": {
        "id": "TQ0z0mmte2Nn"
      },
      "source": [
        "for i in range(len(res)):\n",
        "  if res[i] == '':\n",
        "    del(res[i])"
      ],
      "execution_count": null,
      "outputs": []
    },
    {
      "cell_type": "code",
      "metadata": {
        "id": "X4tsdNNhfvop"
      },
      "source": [
        "ans = []\n",
        "for word in res:\n",
        "  ans.append(ta.tone(word).get_result())"
      ],
      "execution_count": 79,
      "outputs": []
    },
    {
      "cell_type": "code",
      "metadata": {
        "id": "9IAJQL0NhOeY"
      },
      "source": [
        "Final = []\n",
        "for i in range(len(ans)):\n",
        "  if ans[i]['document_tone']['tones'] != []:\n",
        "    Final.append(ans[i]['document_tone']['tones'][0]['tone_name'])\n",
        "\n",
        "Final.append(Tone_Style)"
      ],
      "execution_count": 80,
      "outputs": []
    },
    {
      "cell_type": "code",
      "metadata": {
        "colab": {
          "base_uri": "https://localhost:8080/"
        },
        "id": "2BWVmku4PBBr",
        "outputId": "702bfea1-e9cb-49f7-f80f-9c18e2cb163d"
      },
      "source": [
        "Final"
      ],
      "execution_count": 81,
      "outputs": [
        {
          "output_type": "execute_result",
          "data": {
            "text/plain": [
              "['Joy', 'Analytical', 'Analytical', 'Joy']"
            ]
          },
          "metadata": {
            "tags": []
          },
          "execution_count": 81
        }
      ]
    }
  ]
}